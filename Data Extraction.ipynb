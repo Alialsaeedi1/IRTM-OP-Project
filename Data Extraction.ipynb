{
 "cells": [
  {
   "cell_type": "code",
   "execution_count": 16,
   "id": "bf2cf22c",
   "metadata": {},
   "outputs": [
    {
     "data": {
      "text/plain": [
       "'./OP/Chapter 225 A Man\\'s Dream \"April 8 2002\" 19'"
      ]
     },
     "execution_count": 16,
     "metadata": {},
     "output_type": "execute_result"
    }
   ],
   "source": [
    "path+\"/\"+directory"
   ]
  },
  {
   "cell_type": "code",
   "execution_count": 17,
   "id": "7b077fb8",
   "metadata": {
    "scrolled": true
   },
   "outputs": [],
   "source": [
    "#Extract titles and change folders name\n",
    "import os\n",
    "path = './OP'\n",
    "items = os.listdir(path)\n",
    "directories = [item for item in items if os.path.isdir(os.path.join(path, item))]\n",
    "dictionary = {}\n",
    "for directory in directories:\n",
    "    ind = directory.index(\" \")\n",
    "    ind1 = directory.index(\" \", ind+1)+1\n",
    "    ind2 = directory.rfind(\"\\\"\",0,directory.rfind(\"\\\"\"))\n",
    "    chapter_title = directory[ind1:ind2]\n",
    "    chapter_number = int(directory.split(\" \")[1])\n",
    "    os.rename(path+\"/\"+directory, path+ \"/\" + str(chapter_number) )\n",
    "    dictionary[chapter_number] = chapter_title"
   ]
  },
  {
   "cell_type": "code",
   "execution_count": 26,
   "id": "48fd86dc",
   "metadata": {},
   "outputs": [],
   "source": [
    "#Save titles in a csv\n",
    "import csv\n",
    "with open(\"titles.csv\", mode='w', newline='') as file:\n",
    "    writer = csv.writer(file)\n",
    "    writer.writerow(['Chapter', 'Title'])\n",
    "    # Write each row of data to the CSV file\n",
    "    for key, value in dictionary.items():\n",
    "        writer.writerow([key, value])"
   ]
  },
  {
   "cell_type": "code",
   "execution_count": 19,
   "id": "c05315a1",
   "metadata": {
    "scrolled": true
   },
   "outputs": [
    {
     "name": "stderr",
     "output_type": "stream",
     "text": [
      "Error: Error Domain=NSCocoaErrorDomain Code=260 \"The file “*.jpg” couldn’t be opened because there is no such file.\" UserInfo={NSFilePath=/Users/alialsaeedi/Desktop/IRTM OP project/OP/889/*.jpg, NSUnderlyingError=0x600000946580 {Error Domain=NSPOSIXErrorDomain Code=2 \"No such file or directory\"}}\n",
      "Error: Error Domain=NSCocoaErrorDomain Code=260 \"The file “*.jpg” couldn’t be opened because there is no such file.\" UserInfo={NSFilePath=/Users/alialsaeedi/Desktop/IRTM OP project/OP/1035/*.jpg, NSUnderlyingError=0x600003692580 {Error Domain=NSPOSIXErrorDomain Code=2 \"No such file or directory\"}}\n"
     ]
    }
   ],
   "source": [
    "#apply script on all chapters\n",
    "import subprocess\n",
    "for key in dictionary.keys():\n",
    "    folder_path = \"OP/\"+str(key)\n",
    "    command ='shortcuts run \"OCR Image Text\" -i ' +folder_path+'/*.jpg --output-type public.utf8-plain-text -o Chapters/'+str(key)\n",
    "    subprocess.run(command.format(folder_path), shell=True)"
   ]
  },
  {
   "cell_type": "code",
   "execution_count": 52,
   "id": "250cd064",
   "metadata": {
    "scrolled": true
   },
   "outputs": [],
   "source": [
    "#apply script on chapters with .png\n",
    "chapters = [979,893,895,901,897,888,977,899,904]\n",
    "for chapter in chapters:\n",
    "    folder_path = \"OP/\"+str(chapter)\n",
    "    command ='shortcuts run \"OCR Image Text\" -i ' +folder_path+'/* --output-type public.utf8-plain-text -o Chapters/'+str(chapter)\n",
    "    subprocess.run(command.format(folder_path), shell=True)\n"
   ]
  },
  {
   "cell_type": "code",
   "execution_count": 58,
   "id": "472473b9",
   "metadata": {},
   "outputs": [],
   "source": [
    "chapters2 = [1035,889]\n",
    "for chapter in chapters2:\n",
    "    folder_path = \"OP/\"+str(chapter)\n",
    "    command ='shortcuts run \"OCR Image Text\" -i ' +folder_path+'/* --output-type public.utf8-plain-text -o Chapters/'+str(chapter)\n",
    "    subprocess.run(command.format(folder_path), shell=True)\n"
   ]
  },
  {
   "cell_type": "code",
   "execution_count": 66,
   "id": "420c68b8",
   "metadata": {},
   "outputs": [
    {
     "name": "stderr",
     "output_type": "stream",
     "text": [
      "cat: Chapters/893/*.txt: No such file or directory\n"
     ]
    }
   ],
   "source": [
    "#merge all .txt files into one file\n",
    "path = './Chapters'\n",
    "items = os.listdir(path)\n",
    "directories = [item for item in items if os.path.isdir(os.path.join(path, item))]\n",
    "for directory in directories:\n",
    "    folder_path = \"Chapters/\" + str(directory)\n",
    "    command = 'cat '+ folder_path +'/*.txt > finalChapters/c' + str(directory) +'.txt'\n",
    "    subprocess.run(command.format(folder_path), shell=True)\n",
    "    "
   ]
  },
  {
   "cell_type": "code",
   "execution_count": 83,
   "id": "f7b2e00e",
   "metadata": {},
   "outputs": [],
   "source": [
    "import requests\n",
    "\n",
    "owner = 'Alialsaeedi1'\n",
    "repo = 'IRTM-OP-Project'\n",
    "folder = 'Data/Chapters'\n",
    "url = f'https://api.github.com/repos/{owner}/{repo}/contents/{folder}/'\n",
    "l = []\n",
    "response = requests.get(url)\n",
    "if response.status_code == 200:\n",
    "    contents = response.json()\n",
    "    file_names = [content['name'] for content in contents if content['type'] == 'file']\n",
    "    for file_name in file_names:\n",
    "        download_url = f\"https://raw.githubusercontent.com/{owner}/{repo}/main/{folder}/{file_name}\"\n",
    "        \n",
    "        l.append(file_name)\n",
    "else:\n",
    "    print('Error:', response.text)\n"
   ]
  },
  {
   "cell_type": "code",
   "execution_count": 98,
   "id": "6251d756",
   "metadata": {},
   "outputs": [
    {
     "name": "stderr",
     "output_type": "stream",
     "text": [
      "mv: rename finalChapters/c997.txt to leftovers/c997.txt: No such file or directory\n"
     ]
    }
   ],
   "source": [
    "#Github can't upload more than 1000 files, so we move the files to another file and we reupload them\n",
    "import re\n",
    "nums_list = []\n",
    "move_files = []\n",
    "for numm in l:\n",
    "\n",
    "    num = int(re.findall('\\d+', numm)[0])\n",
    "    nums_list.append(num)\n",
    "for i in range(1,1000):\n",
    "    if i not in nums_list:\n",
    "        move_files.append(i) \n",
    "        \n",
    "path = './Chapters'\n",
    "for directory in move_files:\n",
    "    folder_path = \"finalChapters/c\" + str(directory) +\".txt\"\n",
    "    command = 'mv '+ folder_path + \" leftovers\"\n",
    "    subprocess.run(command.format(folder_path), shell=True)\n",
    "    "
   ]
  }
 ],
 "metadata": {
  "kernelspec": {
   "display_name": "Python 3 (ipykernel)",
   "language": "python",
   "name": "python3"
  },
  "language_info": {
   "codemirror_mode": {
    "name": "ipython",
    "version": 3
   },
   "file_extension": ".py",
   "mimetype": "text/x-python",
   "name": "python",
   "nbconvert_exporter": "python",
   "pygments_lexer": "ipython3",
   "version": "3.10.8"
  }
 },
 "nbformat": 4,
 "nbformat_minor": 5
}
